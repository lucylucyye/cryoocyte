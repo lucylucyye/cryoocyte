{
 "cells": [
  {
   "cell_type": "markdown",
   "metadata": {},
   "source": [
    "# A Tutorial to implement data science model on a high dimensional dataset"
   ]
  },
  {
   "cell_type": "markdown",
   "metadata": {},
   "source": [
    "Import Python Packages"
   ]
  },
  {
   "cell_type": "code",
   "execution_count": 458,
   "metadata": {},
   "outputs": [],
   "source": [
    "# dataframe package\n",
    "import numpy as np\n",
    "import pandas as pd\n",
    "\n",
    "# data preprocessing\n",
    "from sklearn.model_selection import train_test_split\n",
    "from sklearn.preprocessing import StandardScaler, normalize\n",
    "\n",
    "# linear regression\n",
    "from sklearn.linear_model import LinearRegression\n",
    "# lasso regression\n",
    "from sklearn.linear_model import LassoCV\n",
    "from sklearn.datasets import make_regression\n",
    "from sklearn import linear_model\n",
    "\n",
    "# model evalutaion\n",
    "from sklearn.metrics import r2_score\n",
    "from sklearn.metrics import mean_squared_error\n",
    "from math import sqrt\n",
    "\n",
    "# plot\n",
    "import matplotlib.pyplot as plt"
   ]
  },
  {
   "cell_type": "markdown",
   "metadata": {},
   "source": [
    "## First, we want to read in training dataset and preprocess the dataset"
   ]
  },
  {
   "cell_type": "code",
   "execution_count": 459,
   "metadata": {},
   "outputs": [],
   "source": [
    "# Read in all the data.\n",
    "# I choose to drop the NA data because they are only a few compared to the whole dataset. \n",
    "# Deleting these NA rows will have negligible effect on the analysis process.\n",
    "\n",
    "data = pd.read_csv('cryoocyte_1_regression_train.csv')\n",
    "df = data.dropna()\n",
    "df_copy=df.copy()"
   ]
  },
  {
   "cell_type": "code",
   "execution_count": 460,
   "metadata": {},
   "outputs": [
    {
     "name": "stdout",
     "output_type": "stream",
     "text": [
      "    x14 x48       x52     x83        x84     x97\n",
      "0   Aug   D   $621.35  Yellow  wednesday  -0.01%\n",
      "1   Jun   B  $1269.85   Orang    tuesday  -0.01%\n",
      "2   Jun   B   $972.98   Orang    tuesday  -0.01%\n",
      "3  July   B  $-153.38   Orang    tuesday    0.0%\n",
      "4   Jun   B   $-326.5  Yellow  wednesday   0.01%\n"
     ]
    }
   ],
   "source": [
    "#filter out the columns which are not float and process each one\n",
    "print(df_copy.select_dtypes(include=['object']).head())"
   ]
  },
  {
   "cell_type": "markdown",
   "metadata": {},
   "source": [
    "### For each of the non-numeric variables, we want to see if they are significant to y by simply plotting the means in each variable. If so, then we keep these variables and transform the data type/format."
   ]
  },
  {
   "cell_type": "code",
   "execution_count": 461,
   "metadata": {},
   "outputs": [
    {
     "name": "stdout",
     "output_type": "stream",
     "text": [
      "                y\n",
      "x14              \n",
      "Apr      0.053122\n",
      "Aug     -0.026118\n",
      "Dev     -0.106637\n",
      "Feb      0.127195\n",
      "January  0.130706\n",
      "July    -0.005716\n",
      "Jun      0.013357\n",
      "Mar      0.064913\n",
      "May      0.031390\n",
      "Nov     -0.096861\n",
      "Oct     -0.067782\n",
      "sept.   -0.053503\n"
     ]
    },
    {
     "data": {
      "image/png": "[encoded data removed]",
      "text/plain": [
       "<Figure size 432x288 with 1 Axes>"
      ]
     },
     "metadata": {},
     "output_type": "display_data"
    }
   ],
   "source": [
    "# x14\n",
    "df_x14_mean = df_copy[['x14','y']]\n",
    "df_x14_mean = df_x14_mean.groupby(['x14']).mean()\n",
    "df_x14_mean.plot()\n",
    "print (df_x14_mean)"
   ]
  },
  {
   "cell_type": "markdown",
   "metadata": {},
   "source": [
    "From the plot, we can see that x14 is signicant to y, so we continue to transform the data"
   ]
  },
  {
   "cell_type": "code",
   "execution_count": 462,
   "metadata": {
    "scrolled": true
   },
   "outputs": [
    {
     "name": "stdout",
     "output_type": "stream",
     "text": [
      "0    8\n",
      "1    6\n",
      "2    6\n",
      "3    7\n",
      "4    6\n",
      "Name: x14, dtype: int64\n"
     ]
    }
   ],
   "source": [
    "# Assign the numeric value to x14\n",
    "d = {'Aug':8, 'Jun':6, 'July':7, 'sept.':9, 'Apr':4 ,'May':5, 'Oct':10 ,'Mar':3 ,'Nov':11 ,'January':1, 'Feb':2,'Dev':12}\n",
    "df_copy['x14'] = df_copy['x14'].map(d)\n",
    "print(df_copy['x14'].head())"
   ]
  },
  {
   "cell_type": "code",
   "execution_count": 463,
   "metadata": {},
   "outputs": [
    {
     "name": "stdout",
     "output_type": "stream",
     "text": [
      "            y\n",
      "x48          \n",
      "A   -0.255165\n",
      "B   -0.005208\n",
      "D    0.228908\n"
     ]
    },
    {
     "data": {
      "image/png": "[encoded data removed]",
      "text/plain": [
       "<Figure size 432x288 with 1 Axes>"
      ]
     },
     "metadata": {},
     "output_type": "display_data"
    }
   ],
   "source": [
    "# Similar to x14, we plot the dataset groupby the mean of y in each category in x48.\n",
    "df_x48_mean = df_copy[['x48','y']]\n",
    "df_x48_mean = df_x48_mean.groupby(['x48']).mean()\n",
    "df_x48_mean.plot()\n",
    "print (df_x48_mean)"
   ]
  },
  {
   "cell_type": "code",
   "execution_count": 464,
   "metadata": {},
   "outputs": [
    {
     "name": "stdout",
     "output_type": "stream",
     "text": [
      "0    3\n",
      "1    2\n",
      "2    2\n",
      "3    2\n",
      "4    2\n",
      "Name: x48, dtype: int64\n"
     ]
    }
   ],
   "source": [
    "# x48 is very significant to y. Similar to x14, we assign the numerica value to x48\n",
    "dict48 = {'A':1, 'B':2, 'D':3}\n",
    "df_copy['x48'] = df_copy['x48'].map(dict48)\n",
    "print(df_copy['x48'].head())"
   ]
  },
  {
   "cell_type": "code",
   "execution_count": 465,
   "metadata": {},
   "outputs": [
    {
     "name": "stdout",
     "output_type": "stream",
     "text": [
      "0     621.35\n",
      "1    1269.85\n",
      "2     972.98\n",
      "3    -153.38\n",
      "4    -326.50\n",
      "Name: x52, dtype: float64\n"
     ]
    }
   ],
   "source": [
    "# Use string strip to take out the $ sign in x52\n",
    "df_copy['x52'] = df_copy['x52'].str.strip('$')\n",
    "df_copy['x52'] = pd.to_numeric(df_copy['x52'])\n",
    "print(df_copy['x52'].head())"
   ]
  },
  {
   "cell_type": "code",
   "execution_count": 466,
   "metadata": {},
   "outputs": [
    {
     "name": "stdout",
     "output_type": "stream",
     "text": [
      "               y\n",
      "x83             \n",
      "Orang  -0.136016\n",
      "Yellow  0.099512\n",
      "blue    0.377305\n",
      "red    -0.428398\n"
     ]
    },
    {
     "data": {
      "image/png": "[encoded data removed]",
      "text/plain": [
       "<Figure size 432x288 with 1 Axes>"
      ]
     },
     "metadata": {},
     "output_type": "display_data"
    }
   ],
   "source": [
    "# Similar process to x14 and x48\n",
    "df_x83_mean = df_copy[['x83','y']]\n",
    "df_x83_mean = df_x83_mean.groupby(['x83']).mean()\n",
    "df_x83_mean.plot()\n",
    "print (df_x83_mean)"
   ]
  },
  {
   "cell_type": "code",
   "execution_count": 467,
   "metadata": {},
   "outputs": [
    {
     "name": "stdout",
     "output_type": "stream",
     "text": [
      "0    2\n",
      "1    1\n",
      "2    1\n",
      "3    1\n",
      "4    2\n",
      "Name: x83, dtype: int64\n"
     ]
    }
   ],
   "source": [
    "dict83 = {'Orang':1, 'Yellow':2, 'blue':3,'red':4}\n",
    "df_copy['x83'] = df_copy['x83'].map(dict83)\n",
    "print(df_copy['x83'].head())"
   ]
  },
  {
   "cell_type": "code",
   "execution_count": 468,
   "metadata": {},
   "outputs": [
    {
     "name": "stdout",
     "output_type": "stream",
     "text": [
      "                  y\n",
      "x84                \n",
      "friday     0.462135\n",
      "monday    -0.200215\n",
      "sat       -0.569496\n",
      "sun       -0.370224\n",
      "thursday   0.286546\n",
      "tuesday   -0.037676\n",
      "wednesday  0.122701\n"
     ]
    },
    {
     "data": {
      "image/png": "[encoded data removed]",
      "text/plain": [
       "<Figure size 432x288 with 1 Axes>"
      ]
     },
     "metadata": {},
     "output_type": "display_data"
    }
   ],
   "source": [
    "# Similar process to x14, x48 and x83\n",
    "df_x84_mean = df_copy[['x84','y']]\n",
    "df_x84_mean = df_x84_mean.groupby(['x84']).mean()\n",
    "df_x84_mean.plot()\n",
    "print (df_x84_mean)"
   ]
  },
  {
   "cell_type": "code",
   "execution_count": 469,
   "metadata": {},
   "outputs": [
    {
     "name": "stdout",
     "output_type": "stream",
     "text": [
      "0    3\n",
      "1    2\n",
      "2    2\n",
      "3    2\n",
      "4    3\n",
      "Name: x84, dtype: int64\n"
     ]
    }
   ],
   "source": [
    "dict84 = {'friday':5, 'monday':1, 'sat':3,'sun':7,'thursday':4, 'tuesday':2, 'wednesday':3}\n",
    "df_copy['x84'] = df_copy['x84'].map(dict84)\n",
    "print(df_copy['x84'].head())"
   ]
  },
  {
   "cell_type": "code",
   "execution_count": 470,
   "metadata": {},
   "outputs": [
    {
     "name": "stdout",
     "output_type": "stream",
     "text": [
      "0   -0.0001\n",
      "1   -0.0001\n",
      "2   -0.0001\n",
      "3    0.0000\n",
      "4    0.0001\n",
      "Name: x97, dtype: float64\n"
     ]
    }
   ],
   "source": [
    "# Use string strip to take out the % sign in x97\n",
    "\n",
    "df_copy['x97'] = df_copy['x97'].str.strip('%')\n",
    "df_copy['x97'] = pd.to_numeric(df_copy['x97'])\n",
    "df_copy['x97'] = df_copy['x97'].div(100).round(4)\n",
    "print(df_copy['x97'].head())"
   ]
  },
  {
   "cell_type": "markdown",
   "metadata": {},
   "source": [
    "## Second, we want to divide the dataset into Train and Validation set (70%-30%) and rescale the data because of the data scale imbalance."
   ]
  },
  {
   "cell_type": "code",
   "execution_count": 471,
   "metadata": {},
   "outputs": [],
   "source": [
    "# Separate out the x_data and y_data.\n",
    "x_data = df_copy.loc[:, df_copy.columns != \"y\"]\n",
    "y_data = df_copy.loc[:, \"y\"]"
   ]
  },
  {
   "cell_type": "code",
   "execution_count": 472,
   "metadata": {},
   "outputs": [],
   "source": [
    "# The random state to use while splitting the data.\n",
    "random_state = 100"
   ]
  },
  {
   "cell_type": "code",
   "execution_count": 473,
   "metadata": {},
   "outputs": [],
   "source": [
    "x_train, x_test, y_train, y_test = train_test_split(x_data,y_data,test_size = 0.3 ,random_state= random_state, shuffle = True)"
   ]
  },
  {
   "cell_type": "code",
   "execution_count": 474,
   "metadata": {},
   "outputs": [],
   "source": [
    "# Applying scalar to the x dataset\n",
    "scaler_train = StandardScaler().fit(x_train)\n",
    "scaler_test = StandardScaler().fit(x_test)\n",
    "x_train_s = scaler_train.transform(x_train)\n",
    "x_test_s = scaler_test.transform(x_test)"
   ]
  },
  {
   "cell_type": "markdown",
   "metadata": {},
   "source": [
    "## Third, we start to apply models to the preprocessed dataset, both Training and Validation. Then we evaluate which model has a higher accuracy. \n",
    "\n",
    "###  Linear Regression Model."
   ]
  },
  {
   "cell_type": "code",
   "execution_count": 475,
   "metadata": {},
   "outputs": [],
   "source": [
    "clflm = LinearRegression()\n",
    "clflm.fit(x_train_s,y_train)\n",
    "\n",
    "y_pred_lm_train =clflm.predict(x_train_s)\n",
    "y_pred_lm_test = clflm.predict(x_test_s)"
   ]
  },
  {
   "cell_type": "markdown",
   "metadata": {},
   "source": [
    "We use r_2 and RMSE to measure the accuracy of the model.\n",
    "\n",
    "\n",
    "The higher the r2 or the lower RMSE, the better accuracy."
   ]
  },
  {
   "cell_type": "code",
   "execution_count": 476,
   "metadata": {},
   "outputs": [
    {
     "name": "stdout",
     "output_type": "stream",
     "text": [
      "Linear Reg r2 Train 0.9383503727123947\n",
      "Linear Reg r2 Test 0.9348168892671871\n",
      "Linear Reg RMSE Train 0.04980092232837731\n",
      "Linear Reg RMSE Test 0.051469210482093235\n"
     ]
    }
   ],
   "source": [
    "r2_lm_train= r2_score(y_train, y_pred_lm_train)\n",
    "r2_lm_test= r2_score(y_test, y_pred_lm_test)\n",
    "print(\"Linear Reg r2 Train\", r2_lm_train)\n",
    "print(\"Linear Reg r2 Test\", r2_lm_test)\n",
    "\n",
    "mse_lm_train= mean_squared_error(y_train, y_pred_lm_train)\n",
    "mse_lm_test = mean_squared_error(y_test, y_pred_lm_test)\n",
    "print('Linear Reg RMSE Train', sqrt(mse_lm_train))\n",
    "print('Linear Reg RMSE Test', sqrt(mse_lm_test))"
   ]
  },
  {
   "cell_type": "markdown",
   "metadata": {},
   "source": [
    "### Lasso Rgression Model\n",
    "The Lasso is a linear model that estimates sparse coefficients. It is useful in some contexts due to its tendency to prefer solutions with fewer parameter values, effectively reducing the number of variables upon which the given solution is dependent.\n",
    "\n",
    "Lasso linear model with iterative fitting along a regularization path. The best model is selected by cross-validation.\n",
    "The optimization objective for Lasso is: \n",
    "\n",
    "(1 / (2 * n_samples)) * ||y - Xw||^2_2 + alpha * ||w||_1"
   ]
  },
  {
   "cell_type": "code",
   "execution_count": 477,
   "metadata": {},
   "outputs": [],
   "source": [
    "#lasso regression\n",
    "from sklearn.linear_model import LassoCV\n",
    "from sklearn.datasets import make_regression\n",
    "from sklearn import linear_model"
   ]
  },
  {
   "cell_type": "code",
   "execution_count": 478,
   "metadata": {},
   "outputs": [],
   "source": [
    "#change tol to 0.01 to make the iter converges in LassoCV\n",
    "clf_la = LassoCV(n_alphas = 100,cv=100, random_state=0,normalize=True,tol=0.01)\n",
    "clf_la.fit(x_train, y_train)\n",
    "\n",
    "y_pred_la_train = clf_la.predict(x_train)\n",
    "y_pred_la_test = clf_la.predict(x_test)"
   ]
  },
  {
   "cell_type": "code",
   "execution_count": 479,
   "metadata": {},
   "outputs": [
    {
     "name": "stdout",
     "output_type": "stream",
     "text": [
      "Lasso Reg r2 Train 0.9365069284454811\n",
      "Lasso Reg r2 Test 0.9372997827764117\n",
      "Lasso Reg RMSE Train 0.05054001040348781\n",
      "Lasso Reg RMSE Test 0.050479435294885425\n"
     ]
    }
   ],
   "source": [
    "r2_la_train= r2_score(y_train, y_pred_la_train)\n",
    "r2_la_test= r2_score(y_test, y_pred_la_test)\n",
    "print(\"Lasso Reg r2 Train\", r2_la_train)\n",
    "print(\"Lasso Reg r2 Test\", r2_la_test)\n",
    "\n",
    "mse_la_train= mean_squared_error(y_train, y_pred_la_train)\n",
    "mse_la_test = mean_squared_error(y_test, y_pred_la_test)\n",
    "print('Lasso Reg RMSE Train', sqrt(mse_la_train))\n",
    "print('Lasso Reg RMSE Test', sqrt(mse_la_test))"
   ]
  },
  {
   "cell_type": "markdown",
   "metadata": {},
   "source": [
    "### Model Comparison\n",
    "\n",
    "We compare these two model using r2 and rmse in the validation set.\n",
    "\n",
    "Linear Reg r2 Test: 0.9348168892671871\n",
    "\n",
    "Lasso Reg r2 Test: 0.9372997827764117\n",
    "\n",
    "Linear Reg RMSE Test: 0.051469210482093235\n",
    "\n",
    "Lasso Reg RMSE Test 0.050479435294885425\n",
    "\n",
    "Both of the regression has high r2 and small RMSE, while Lasso Regression is slightly better then the Linear Regression."
   ]
  },
  {
   "cell_type": "markdown",
   "metadata": {},
   "source": [
    "## Predicting Y in the test dataset using Lasso Regression"
   ]
  },
  {
   "cell_type": "code",
   "execution_count": 480,
   "metadata": {},
   "outputs": [],
   "source": [
    "# Read in all the data\n",
    "data_test = pd.read_csv('cryoocyte_1_regression_test.csv')\n",
    "df_copy_test =data_test.copy()"
   ]
  },
  {
   "cell_type": "markdown",
   "metadata": {},
   "source": [
    "Similar to the training data preprocessing:"
   ]
  },
  {
   "cell_type": "code",
   "execution_count": 481,
   "metadata": {},
   "outputs": [],
   "source": [
    "dict14 = {'Aug':8, 'Jun':6, 'July':7, 'sept.':9, 'Apr':4 ,'May':5, 'Oct':10 ,'Mar':3 ,'Nov':11 ,'January':1, 'Feb':2,'Dev':12}\n",
    "df_copy_test['x14'] = df_copy_test['x14'].map(dict14)"
   ]
  },
  {
   "cell_type": "code",
   "execution_count": 482,
   "metadata": {},
   "outputs": [],
   "source": [
    "dict48 = {'A':1, 'B':2, 'D':3}\n",
    "df_copy_test['x48'] = df_copy_test['x48'].map(dict48)"
   ]
  },
  {
   "cell_type": "code",
   "execution_count": 483,
   "metadata": {},
   "outputs": [],
   "source": [
    "df_copy_test['x52'] = df_copy_test['x52'].str.strip('$')\n",
    "df_copy_test['x52'] = pd.to_numeric(df_copy_test['x52'])"
   ]
  },
  {
   "cell_type": "code",
   "execution_count": 484,
   "metadata": {},
   "outputs": [],
   "source": [
    "dict83 = {'Orang':1, 'Yellow':2, 'blue':3,'red':4}\n",
    "df_copy_test['x83'] = df_copy_test['x83'].map(dict83)"
   ]
  },
  {
   "cell_type": "code",
   "execution_count": 485,
   "metadata": {},
   "outputs": [],
   "source": [
    "dict84 = {'friday':5, 'monday':1, 'sat':3,'sun':7,'thursday':4, 'tuesday':2, 'wednesday':3}\n",
    "df_copy_test['x84'] = df_copy_test['x84'].map(dict84)"
   ]
  },
  {
   "cell_type": "code",
   "execution_count": 486,
   "metadata": {},
   "outputs": [],
   "source": [
    "df_copy_test['x97'] = df_copy_test['x97'].str.strip('%')\n",
    "df_copy_test['x97'] = pd.to_numeric(df_copy_test['x97'])\n",
    "df_copy_test['x97'] = df_copy_test['x97'].div(100).round(4)"
   ]
  },
  {
   "cell_type": "markdown",
   "metadata": {},
   "source": [
    "### Data reprocess and y prediction\n",
    "In the testing dataset, in order to get all predicted y for the whole test dataset, we can fill in the N/A data with the mean of the column. (small effect on the prediction)"
   ]
  },
  {
   "cell_type": "code",
   "execution_count": 487,
   "metadata": {},
   "outputs": [],
   "source": [
    "# new dataset with filled na\n",
    "df_update_test = df_copy_test.fillna(df_copy_test.mean())"
   ]
  },
  {
   "cell_type": "code",
   "execution_count": 488,
   "metadata": {},
   "outputs": [],
   "source": [
    "x_pred = df_update_test.loc[:, df_copy_test.columns != \"y\"]\n",
    "\n",
    "clf_la = LassoCV(n_alphas = 100,cv=100, random_state=0,normalize=True,tol=0.01)\n",
    "clf_la.fit(x_train, y_train)\n",
    "\n",
    "y_pred = clf_la.predict(x_pred)"
   ]
  },
  {
   "cell_type": "markdown",
   "metadata": {},
   "source": [
    "Write the dataframe with the predicted y to a new csv file"
   ]
  },
  {
   "cell_type": "code",
   "execution_count": 491,
   "metadata": {},
   "outputs": [
    {
     "name": "stdout",
     "output_type": "stream",
     "text": [
      "         x0        x1        x2        x3        x4        x5        x6  \\\n",
      "0 -0.000960  0.000012 -0.000822  0.000095 -0.000228  0.000386  0.000349   \n",
      "1 -0.000842 -0.000058 -0.000400 -0.000457 -0.000221  0.000046 -0.000093   \n",
      "2 -0.000200 -0.001776  0.000425 -0.000156  0.000885  0.000509 -0.000451   \n",
      "3 -0.000732  0.000539 -0.000806  0.000489 -0.001849  0.000316  0.000564   \n",
      "4  0.000276  0.000122 -0.000073  0.001005 -0.000849 -0.000221 -0.000048   \n",
      "\n",
      "         x7        x8        x9    ...          x91       x92       x93  \\\n",
      "0 -0.000026 -0.000045 -0.000233    ...    -0.000342 -0.000266  0.000702   \n",
      "1  0.000039  0.000220 -0.000225    ...    -0.000132 -0.000120 -0.000369   \n",
      "2 -0.000132 -0.000086 -0.000272    ...    -0.000575 -0.000131  0.000107   \n",
      "3  0.000859  0.000363 -0.001000    ...    -0.000515 -0.000116 -0.000990   \n",
      "4 -0.000667 -0.000191  0.000325    ...    -0.000374  0.000431 -0.000899   \n",
      "\n",
      "        x94       x95       x96     x97       x98       x99         y  \n",
      "0  0.000827 -0.000604 -0.000286  -0.01% -0.000361 -0.000385 -0.074039  \n",
      "1 -0.000053 -0.000078 -0.000284   0.01% -0.000353 -0.000497  0.063769  \n",
      "2  0.000191 -0.000142  0.000027   0.01% -0.000719  0.000246  0.025203  \n",
      "3  0.000799  0.000121 -0.000239  -0.01% -0.000901 -0.000466 -0.048615  \n",
      "4  0.000038 -0.000370  0.000448   0.01% -0.001373  0.000019 -0.183080  \n",
      "\n",
      "[5 rows x 101 columns]\n"
     ]
    }
   ],
   "source": [
    "# create a copy of the original test dataset and append the predicted y to it\n",
    "data_new_csv = data_test.copy()\n",
    "data_new_csv['y'] = y_pred\n",
    "\n",
    "#print the first 5 rows of the new data\n",
    "print(data_new_csv.head())\n",
    "\n",
    "# write to csv\n",
    "data_new_csv.to_csv('test_updated_y.csv')"
   ]
  }
 ],
 "metadata": {
  "kernelspec": {
   "display_name": "Python 3",
   "language": "python",
   "name": "python3"
  },
  "language_info": {
   "codemirror_mode": {
    "name": "ipython",
    "version": 3
   },
   "file_extension": ".py",
   "mimetype": "text/x-python",
   "name": "python",
   "nbconvert_exporter": "python",
   "pygments_lexer": "ipython3",
   "version": "3.6.5"
  }
 },
 "nbformat": 4,
 "nbformat_minor": 2
}
